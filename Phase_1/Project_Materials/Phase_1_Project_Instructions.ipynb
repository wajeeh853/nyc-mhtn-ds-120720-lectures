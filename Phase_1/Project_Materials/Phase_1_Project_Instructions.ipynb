{
 "cells": [
  {
   "cell_type": "markdown",
   "metadata": {},
   "source": [
    "# Yelp API - Lab\n",
    "\n",
    "## Objectives\n",
    "\n",
    "You will be able to:\n",
    "* Utilize Github to save your code\n",
    "* Create a SQLite instance of a DB to store information from Yelp about businesses\n",
    "* Create HTTP requests to get data from Yelp API\n",
    "* Parse HTTP responses and insert the information into your DB\n",
    "* Perform pagination to retrieve troves of data\n",
    "* Write SQL queries to answer questions about your data \n",
    "* Use descriptive statistic to find any insights in your data about \n",
    "\n",
    "## Introduction \n",
    "\n",
    "Now that we've seen how the Yelp API works, it's time to put those API and SQL skills to work in order to do some basic business analysis! Taking things a step further, you'll also independently explore how to perform pagination in order to retrieve a full results set from the Yelp API!\n",
    "\n",
    "## Problem Statement\n",
    "\n",
    "You and your partner are looking to open a new business and trying to decide where is the best geographical area for it. You will to do some research to learn more about the potential markets you are about to enter. The data for your analysis will come primarily from Yelp's API, but you are able to bring in data from any source to augment your analysis. The business and potential markets for your business are to open to your chooisng. You must look at at least two geographical areas and compare which one you deem a better opportunity. The geographical areas that you are comparing can be two cities/towns or, for large cities, it can be two separate parts of that city (Queens vs. BK). You and your partner will decide the criteria for selecting the area to open your business, but it must be based in your data analysis.  \n",
    "\n"
   ]
  },
  {
   "cell_type": "markdown",
   "metadata": {},
   "source": [
    "\n",
    "\n",
    "\n",
    "## Process \n",
    "\n",
    "A separate notebook is included to hgive you a step by step guide to complete the project.  \n",
    "\n",
    "\n",
    "0. Create a Github repo to track and maintain an updated version of your code.\n",
    "\n",
    "1. Read through the SQL questions and the API documentation to determine which pieces of information you need to pull from the Yelp API.\n",
    "\n",
    "2. Create a DB schema with 2 tables. One for the businesses and one for the reviews.\n",
    "\n",
    "3. Create code to:\n",
    "  - Perform a search of businesses using pagination\n",
    "  - Parse the API response for specific data points\n",
    "  - Insert the data into your AWS DB\n",
    "\n",
    "4. Use the functions above in a loop that will paginate over the results to retrieve all of the results. \n",
    "\n",
    "5. Create functions to:\n",
    "  - Retrieve the reviews data of one business\n",
    "  - Parse the reviews response for specific review data\n",
    "  - Insert the review data into the DB\n",
    "\n",
    "6. Using SQL, query all of the business IDs. Using the 3 Python functions you've created, run your business IDs through a loop to get the reviews for each business and insert them into your DB.\n",
    "\n",
    "7. Write SQL queries to answer the following questions about your data.\n",
    "\n",
    "8. Bring your data from your SQLite db into a python environment to perform futher analysis.\n",
    "\n",
    "9. Create at least 4 data visualizations to help communicate key insights from from your analysis. \n",
    "\n",
    "10. Create a presentation (PowerPoint or Slideshow) that communicates your process and the findings of your analysis.\n",
    "\n",
    "11. Clean up your code and your Github repo to clearly display the work of your project. \n",
    "\n",
    "\n",
    "\n",
    "Bonus Steps:  \n",
    "- Place your helper functions in a package so that your final notebook only has the major steps listed.\n",
    "- Rewrite your business search functions to be able take an argument for the type of business you are searching for.\n"
   ]
  },
  {
   "cell_type": "markdown",
   "metadata": {},
   "source": [
    " \n",
    "## SQL Questions\n",
    "\n",
    "As a itermediary step in the process, you will need to be able to write SQL queries to answer the questions below. Each group will meet with the instructor Thursday morning to review your SQL statements.  \n",
    "\n",
    "- Which are the 5 most reviewed businesses?\n",
    "- What is the highest rating recieved in your data set and how many businesses have that rating?\n",
    "- What percentage of businesses have a rating greater than or  4.5?\n",
    "- What percentage of businesses have a rating less than 3?\n",
    "- What is the average rating of businesses that have a price label of one dollar sign? Two dollar signs? Three dollar signs? \n",
    "- Return the text of the reviews for the most reviewed business. \n",
    "- Return the name of the business with the most recent review. \n",
    "- Find the highest rated business and return text of the most recent review. If multiple business have the same rating, select the business with the most reviews. \n",
    "- Find the lowest rated business and return text of the most recent review.  If multiple business have the same rating, select the business with the least reviews. \n"
   ]
  }
 ],
 "metadata": {
  "kernelspec": {
   "display_name": "Python 3",
   "language": "python",
   "name": "python3"
  },
  "language_info": {
   "codemirror_mode": {
    "name": "ipython",
    "version": 3
   },
   "file_extension": ".py",
   "mimetype": "text/x-python",
   "name": "python",
   "nbconvert_exporter": "python",
   "pygments_lexer": "ipython3",
   "version": "3.7.3"
  },
  "toc": {
   "base_numbering": 1,
   "nav_menu": {},
   "number_sections": false,
   "sideBar": true,
   "skip_h1_title": false,
   "title_cell": "Table of Contents",
   "title_sidebar": "Contents",
   "toc_cell": false,
   "toc_position": {},
   "toc_section_display": true,
   "toc_window_display": false
  }
 },
 "nbformat": 4,
 "nbformat_minor": 2
}
